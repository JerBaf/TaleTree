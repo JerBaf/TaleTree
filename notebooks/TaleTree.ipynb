{
 "cells": [
  {
   "cell_type": "markdown",
   "metadata": {},
   "source": [
    "# Tale Tree"
   ]
  },
  {
   "cell_type": "code",
   "execution_count": 1,
   "metadata": {},
   "outputs": [],
   "source": [
    "from enum import Enum"
   ]
  },
  {
   "cell_type": "code",
   "execution_count": null,
   "metadata": {},
   "outputs": [],
   "source": [
    "class Algorithms(Enum):\n",
    "    RANDOM = None\n",
    "    BALANCED = None # Balance to avoid sampling too much of the same tree and to keep heterogeneity across lengths of timelines\n",
    "    TENSION = None\n",
    "\n",
    "class Event_Type(Enum):\n",
    "    QUERY = 0\n",
    "    KEY = 1\n",
    "\n",
    "class Tension_Level(Enum):\n",
    "    LOW = 0\n",
    "    MID = 1\n",
    "    HIGH = 2\n",
    "\n",
    "class Event():\n",
    "    def __init__(self,name:str,tension_level:Tension_Level,type:Event_Type):\n",
    "        self.name = name\n",
    "        self.tension_level = tension_level\n",
    "        self.type = type\n",
    "\n",
    "class Timeline():\n",
    "    def __init__(self,timeline:Timeline=None):\n",
    "        if timeline:\n",
    "            self.content = timeline.content.copy()\n",
    "        else:\n",
    "            self.content = list()\n",
    "\n",
    "    def add_event(self,event:Event):\n",
    "        if not self.is_empty() and event.type == self.content[-1].type:\n",
    "            raise ValueError('Trying to insert an event of same type than the previous one.')\n",
    "        else:\n",
    "            self.content.add(event)\n",
    "\n",
    "    def remove_last_event(self):\n",
    "        self.content = self.content[:-1]\n",
    "\n",
    "    def remove_first_event(self):\n",
    "        self.content = self.content[1:]\n",
    "    \n",
    "    def is_empty(self):\n",
    "        return len(self.content) == 0\n",
    "\n",
    "def sequence_builder(timelines:list):\n",
    "    \"\"\" Build the sequence of events throught the different timeline. \"\"\"\n",
    "    # If a single timeline, then the sequence is straightforward\n",
    "    if len(timelines) == 1:\n",
    "        return Timeline(timelines[0])\n",
    "    # If multiple timelines\n",
    "    main_sequence = Timeline()\n",
    "    while not all([t.is_empty() for t in timelines]):\n",
    "        ...\n",
    "\n",
    "class Algorithm():\n",
    "    def __init__(self,timelines:list):\n",
    "        self.timelines = timelines\n",
    "    \n",
    "    def select()"
   ]
  },
  {
   "cell_type": "code",
   "execution_count": 19,
   "metadata": {},
   "outputs": [],
   "source": [
    "e = Event('test',Tension_Level.HIGH,Event_Type.QUERY)\n",
    "t = Timeline()"
   ]
  }
 ],
 "metadata": {
  "kernelspec": {
   "display_name": "VI",
   "language": "python",
   "name": "python3"
  },
  "language_info": {
   "codemirror_mode": {
    "name": "ipython",
    "version": 3
   },
   "file_extension": ".py",
   "mimetype": "text/x-python",
   "name": "python",
   "nbconvert_exporter": "python",
   "pygments_lexer": "ipython3",
   "version": "3.9.21"
  }
 },
 "nbformat": 4,
 "nbformat_minor": 2
}
